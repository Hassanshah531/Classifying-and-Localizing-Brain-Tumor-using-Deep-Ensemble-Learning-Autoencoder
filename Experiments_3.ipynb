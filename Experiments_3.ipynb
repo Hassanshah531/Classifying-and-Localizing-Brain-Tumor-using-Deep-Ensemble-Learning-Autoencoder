{
  "cells": [
    {
      "cell_type": "code",
      "execution_count": null,
      "metadata": {
        "id": "adshpoAJ6AMZ",
        "colab": {
          "base_uri": "https://localhost:8080/"
        },
        "outputId": "b9bb3073-f468-4228-fcfb-6825e40e407d"
      },
      "outputs": [
        {
          "output_type": "stream",
          "name": "stdout",
          "text": [
            "Mounted at /content/drive\n"
          ]
        }
      ],
      "source": [
        "from google.colab import drive\n",
        "drive.mount('/content/drive')"
      ]
    },
    {
      "cell_type": "code",
      "execution_count": null,
      "metadata": {
        "id": "wc-mU4v46H_V"
      },
      "outputs": [],
      "source": [
        "import pandas as pd\n",
        "import numpy as np\n",
        "import os\n",
        "import tensorflow as tf\n",
        "from tensorflow import keras\n",
        "import cv2\n",
        "import matplotlib.pyplot as plt\n",
        "import tensorflow_probability as tfp\n",
        "import pickle"
      ]
    },
    {
      "cell_type": "code",
      "execution_count": null,
      "metadata": {
        "id": "5Eqka4ae6ICX"
      },
      "outputs": [],
      "source": [
        "train_images=pickle.load(\n",
        "      open('/content/drive/MyDrive/datasets/BRAIN_TUMOR_DATA_STORE/train_images.pkl','rb'))\n",
        "test_images=pickle.load(\n",
        "      open('/content/drive/MyDrive/datasets/BRAIN_TUMOR_DATA_STORE/test_images.pkl','rb'))\n",
        "TRAINING_LABELS=pickle.load(\n",
        "      open('/content/drive/MyDrive/datasets/BRAIN_TUMOR_DATA_STORE/TRAINING_LABELS.pkl','rb'))\n",
        "TESTING_LABELS=pickle.load(\n",
        "      open('/content/drive/MyDrive/datasets/BRAIN_TUMOR_DATA_STORE/TESTING_LABELS.pkl','rb'))\n",
        "train_masks=pickle.load(\n",
        "      open('/content/drive/MyDrive/datasets/BRAIN_TUMOR_DATA_STORE/train_masks.pkl','rb'))\n",
        "test_masks=pickle.load(\n",
        "      open('/content/drive/MyDrive/datasets/BRAIN_TUMOR_DATA_STORE/test_masks.pkl','rb'))\n",
        "train_borders=pickle.load(\n",
        "    open('/content/drive/MyDrive/datasets/BRAIN_TUMOR_DATA_STORE/train_borders.pkl','rb'))\n",
        "test_borders=pickle.load(\n",
        "    open('/content/drive/MyDrive/datasets/BRAIN_TUMOR_DATA_STORE/test_borders.pkl','rb'))"
      ]
    },
    {
      "cell_type": "code",
      "execution_count": null,
      "metadata": {
        "id": "kBPZmnT_7YHU"
      },
      "outputs": [],
      "source": [
        "TRAIN_IMAGES=keras.layers.Conv1D(3,3,padding='same')(train_images)\n",
        "TEST_IMAGES=keras.layers.Conv1D(3,3,padding='same')(test_images)"
      ]
    },
    {
      "cell_type": "code",
      "execution_count": null,
      "metadata": {
        "colab": {
          "base_uri": "https://localhost:8080/"
        },
        "id": "QURoRpLG8iA6",
        "outputId": "0970078e-1bb2-46a7-b72d-1acc93b0e3ce"
      },
      "outputs": [
        {
          "output_type": "execute_result",
          "data": {
            "text/plain": [
              "TensorShape([2800, 128, 128, 3])"
            ]
          },
          "metadata": {},
          "execution_count": 5
        }
      ],
      "source": [
        "TRAIN_IMAGES.shape"
      ]
    },
    {
      "cell_type": "code",
      "execution_count": null,
      "metadata": {
        "colab": {
          "base_uri": "https://localhost:8080/"
        },
        "id": "trcu1Hg09FRO",
        "outputId": "5634ca27-d2c9-4af1-cc3a-5228ac4b059a"
      },
      "outputs": [
        {
          "output_type": "execute_result",
          "data": {
            "text/plain": [
              "TensorShape([264, 128, 128, 3])"
            ]
          },
          "metadata": {},
          "execution_count": 6
        }
      ],
      "source": [
        "TEST_IMAGES.shape"
      ]
    },
    {
      "cell_type": "markdown",
      "metadata": {
        "id": "HitKnYSX-Egp"
      },
      "source": [
        "Visual Geometry group"
      ]
    },
    {
      "cell_type": "code",
      "execution_count": null,
      "metadata": {
        "id": "M69UIdiS-CvD"
      },
      "outputs": [],
      "source": [
        "from tensorflow.keras.applications.vgg19 import VGG19\n",
        "Vgg=VGG19(include_top=False, weights='imagenet',input_shape=(128,128,3))"
      ]
    },
    {
      "cell_type": "code",
      "execution_count": null,
      "metadata": {
        "id": "eO15q1c9H_c5"
      },
      "outputs": [],
      "source": [
        "Vgg.trainable=False"
      ]
    },
    {
      "cell_type": "code",
      "execution_count": null,
      "metadata": {
        "id": "2eHmqm0kDMBH"
      },
      "outputs": [],
      "source": [
        "N=2758\n",
        "def prior(kernel_size, bias_size, dtype=None):\n",
        "    n = kernel_size + bias_size\n",
        "    return lambda t: tfp.distributions.Independent(tfp.distributions.Normal(loc=tf.zeros(n, \n",
        "                      dtype=dtype),scale=1),reinterpreted_batch_ndims=1)\n",
        "\n",
        "def posterior(kernel_size, bias_size, dtype=None):\n",
        "    n = kernel_size + bias_size\n",
        "    return keras.models.Sequential([\n",
        "        tfp.layers.VariableLayer(tfp.layers.IndependentNormal.params_size(n), dtype=dtype),\n",
        "        tfp.layers.IndependentNormal(n)\n",
        "    ])"
      ]
    },
    {
      "cell_type": "code",
      "execution_count": null,
      "metadata": {
        "id": "-EWdrEDp-CzD"
      },
      "outputs": [],
      "source": [
        "features=keras.layers.Flatten()(Vgg.output)\n",
        "hidden_1=tfp.layers.DenseVariational(32, posterior, prior, kl_weight=1/N, activation='selu', \n",
        "                               )(features)\n",
        "_hidden_=tfp.layers.DenseVariational(2, posterior, prior, kl_weight=1/N, activation='softmax', \n",
        "                               )(hidden_1)\n",
        "__hidden__=tfp.layers.DenseVariational(2, posterior, prior, kl_weight=1/N, activation='softmax', \n",
        "                               )(hidden_1)\n",
        "___hidden___=tfp.layers.DenseVariational(2, posterior, prior, kl_weight=1/N, activation='softmax', \n",
        "                               )(hidden_1)\n",
        "output_1=tfp.layers.DistributionLambda(lambda t: tfp.distributions.Bernoulli(probs=t\n",
        "                                                                    ))(_hidden_)\n",
        "output_2=tfp.layers.DistributionLambda(lambda t: tfp.distributions.Bernoulli(probs=t\n",
        "                                                                    ))(__hidden__)\n",
        "output_3=tfp.layers.DistributionLambda(lambda t: tfp.distributions.Bernoulli(probs=t\n",
        "                                                                    ))(___hidden___)\n",
        "Visual_Geometry_Group=keras.models.Model([Vgg.input],\n",
        "                            [output_1,output_2,output_3])\n"
      ]
    },
    {
      "cell_type": "code",
      "execution_count": null,
      "metadata": {
        "id": "ZzP81sGN-DD5"
      },
      "outputs": [],
      "source": [
        "Visual_Geometry_Group.compile(optimizer=keras.optimizers.Adam(learning_rate=0.001),\n",
        "                         loss=lambda y_true,y_pred:-tf.reduce_sum(y_pred.log_prob(y_true)),\n",
        "                         metrics=['accuracy']\n",
        "                                           )"
      ]
    },
    {
      "cell_type": "code",
      "execution_count": null,
      "metadata": {
        "colab": {
          "base_uri": "https://localhost:8080/"
        },
        "id": "vPACfSNc-DHV",
        "outputId": "610a099a-7aec-48f8-d5f5-b5e4c8e39071"
      },
      "outputs": [
        {
          "name": "stdout",
          "output_type": "stream",
          "text": [
            "Epoch 1/10\n",
            "79/79 [==============================] - 7s 62ms/step - loss: nan - distribution_lambda_6_loss: nan - distribution_lambda_7_loss: nan - distribution_lambda_8_loss: nan - distribution_lambda_6_accuracy: 0.5336 - distribution_lambda_7_accuracy: 0.7644 - distribution_lambda_8_accuracy: 0.6932\n",
            "Epoch 2/10\n",
            "79/79 [==============================] - 5s 62ms/step - loss: nan - distribution_lambda_6_loss: nan - distribution_lambda_7_loss: nan - distribution_lambda_8_loss: nan - distribution_lambda_6_accuracy: 0.5316 - distribution_lambda_7_accuracy: 0.7740 - distribution_lambda_8_accuracy: 0.6944\n",
            "Epoch 3/10\n",
            "79/79 [==============================] - 5s 62ms/step - loss: nan - distribution_lambda_6_loss: nan - distribution_lambda_7_loss: nan - distribution_lambda_8_loss: nan - distribution_lambda_6_accuracy: 0.5316 - distribution_lambda_7_accuracy: 0.7740 - distribution_lambda_8_accuracy: 0.6944\n",
            "Epoch 4/10\n",
            "79/79 [==============================] - 5s 62ms/step - loss: nan - distribution_lambda_6_loss: nan - distribution_lambda_7_loss: nan - distribution_lambda_8_loss: nan - distribution_lambda_6_accuracy: 0.5316 - distribution_lambda_7_accuracy: 0.7740 - distribution_lambda_8_accuracy: 0.6944\n",
            "Epoch 5/10\n",
            "79/79 [==============================] - 5s 62ms/step - loss: nan - distribution_lambda_6_loss: nan - distribution_lambda_7_loss: nan - distribution_lambda_8_loss: nan - distribution_lambda_6_accuracy: 0.5316 - distribution_lambda_7_accuracy: 0.7740 - distribution_lambda_8_accuracy: 0.6944\n",
            "Epoch 6/10\n",
            "79/79 [==============================] - 5s 62ms/step - loss: nan - distribution_lambda_6_loss: nan - distribution_lambda_7_loss: nan - distribution_lambda_8_loss: nan - distribution_lambda_6_accuracy: 0.5316 - distribution_lambda_7_accuracy: 0.7740 - distribution_lambda_8_accuracy: 0.6944\n",
            "Epoch 7/10\n",
            "79/79 [==============================] - 5s 63ms/step - loss: nan - distribution_lambda_6_loss: nan - distribution_lambda_7_loss: nan - distribution_lambda_8_loss: nan - distribution_lambda_6_accuracy: 0.5316 - distribution_lambda_7_accuracy: 0.7740 - distribution_lambda_8_accuracy: 0.6944\n",
            "Epoch 8/10\n",
            "79/79 [==============================] - 5s 62ms/step - loss: nan - distribution_lambda_6_loss: nan - distribution_lambda_7_loss: nan - distribution_lambda_8_loss: nan - distribution_lambda_6_accuracy: 0.5316 - distribution_lambda_7_accuracy: 0.7740 - distribution_lambda_8_accuracy: 0.6944\n",
            "Epoch 9/10\n",
            "79/79 [==============================] - 5s 62ms/step - loss: nan - distribution_lambda_6_loss: nan - distribution_lambda_7_loss: nan - distribution_lambda_8_loss: nan - distribution_lambda_6_accuracy: 0.5316 - distribution_lambda_7_accuracy: 0.7740 - distribution_lambda_8_accuracy: 0.6944\n",
            "Epoch 10/10\n",
            "79/79 [==============================] - 5s 64ms/step - loss: nan - distribution_lambda_6_loss: nan - distribution_lambda_7_loss: nan - distribution_lambda_8_loss: nan - distribution_lambda_6_accuracy: 0.5316 - distribution_lambda_7_accuracy: 0.7740 - distribution_lambda_8_accuracy: 0.6944\n"
          ]
        }
      ],
      "source": [
        "hist=Visual_Geometry_Group.fit(TRAIN_IMAGES,\n",
        "                               [\n",
        "                  tf.cast(TRAINING_LABELS['glioma Tumor'].values ,dtype=tf.int32),\n",
        "                  tf.cast(TRAINING_LABELS['meningioma Tumor'].values ,dtype=tf.int32),\n",
        "                  tf.cast(TRAINING_LABELS['pituitary Tumor'].values ,dtype=tf.int32)\n",
        "                                ],\n",
        "                               epochs=10)"
      ]
    },
    {
      "cell_type": "code",
      "execution_count": null,
      "metadata": {
        "colab": {
          "base_uri": "https://localhost:8080/",
          "height": 269
        },
        "id": "VyN2dTX1wB3p",
        "outputId": "9e53aeab-0250-4a23-f3d1-2d40c33ddaa5"
      },
      "outputs": [
        {
          "data": {
            "image/png": "[encoded data removed]",
            "text/plain": [
              "<Figure size 432x288 with 1 Axes>"
            ]
          },
          "metadata": {},
          "output_type": "display_data"
        }
      ],
      "source": [
        "pd.DataFrame(hist.history).plot()\n",
        "plt.grid()\n",
        "plt.gca().set_ylim(0,1)\n",
        "plt.show()"
      ]
    },
    {
      "cell_type": "markdown",
      "metadata": {
        "id": "bBfsHyJwLaUL"
      },
      "source": [
        "Second Module"
      ]
    },
    {
      "cell_type": "code",
      "execution_count": null,
      "metadata": {
        "id": "eFsRaL53E5IF"
      },
      "outputs": [],
      "source": [
        "features=keras.layers.Flatten()(Vgg.output)\n",
        "hidden_1=keras.layers.Dense(16,activation='selu')(features)\n",
        "hidden_2=keras.layers.Dense(6,activation='softmax')(hidden_1)\n",
        "output_1=tfp.layers.DistributionLambda(lambda t: tfp.distributions.Bernoulli(probs=t[...,0:2],\n",
        "                                        dtype=tf.int32),name='output_1')(hidden_2)\n",
        "output_2=tfp.layers.DistributionLambda(lambda t: tfp.distributions.Bernoulli(probs=t[...,2:4],\n",
        "                                       dtype=tf.int32),name='output_2')(hidden_2)\n",
        "output_3=tfp.layers.DistributionLambda(lambda t: tfp.distributions.Bernoulli(probs=t[...,4:],\n",
        "                                      dtype=tf.int32),name='output_3')(hidden_2)\n",
        "Mask_layer_1=keras.layers.Dense(64,activation='relu')(features)\n",
        "Mask_layer_2=keras.layers.Dense(128,activation='relu')(Mask_layer_1)\n",
        "Mask_layer_3=keras.layers.Dense(256,activation='relu')(Mask_layer_2)\n",
        "Mask_layer_4=keras.layers.Dense(128*128,activation='sigmoid')(Mask_layer_3)\n",
        "reshape_1=keras.layers.Reshape((128,128))(Mask_layer_4)\n",
        "Mask_output=tfp.layers.DistributionLambda(\n",
        "  lambda t:tfp.distributions.Independent(tfp.distributions.Bernoulli(probs=t),\n",
        "                              reinterpreted_batch_ndims=2),name='Mask_output')(reshape_1)\n",
        "Visual_Geometry_Group=keras.models.Model([Vgg.input],\n",
        "                            [output_1,output_2,output_3,Mask_output])"
      ]
    },
    {
      "cell_type": "code",
      "execution_count": null,
      "metadata": {
        "id": "PuI9APEKE7cG"
      },
      "outputs": [],
      "source": [
        "Visual_Geometry_Group.compile(optimizer=keras.optimizers.Adam(learning_rate=0.001),\n",
        "        loss={\n",
        "            'output_1':lambda y_true,y_pred:-tf.reduce_sum(y_pred.log_prob(y_true)),\n",
        "            'output_2':lambda y_true,y_pred:-tf.reduce_sum(y_pred.log_prob(y_true)),\n",
        "            'output_3':lambda y_true,y_pred:-tf.reduce_sum(y_pred.log_prob(y_true)),\n",
        "            'Mask_output':'mse'\n",
        "            #lambda y_true,y_pred:-tf.reduce_sum(y_pred.log_prob(y_true))\n",
        "            },metrics={\n",
        "                'output_1':['accuracy'],\n",
        "                'output_2':['accuracy'],\n",
        "                'output_3':['accuracy'],\n",
        "                'Mask_output':['mae']\n",
        "                })\n",
        "# y_true,y_pred:tf.reduce_sum(abs(tf.cast(y_pred,dtype=tf.int32)-tf.cast(y_true,dtype=tf.int32)))"
      ]
    },
    {
      "cell_type": "code",
      "execution_count": null,
      "metadata": {
        "colab": {
          "base_uri": "https://localhost:8080/"
        },
        "id": "bKcvEEBHM-eR",
        "outputId": "c918e69c-545c-4a91-e6df-81a7e491febf"
      },
      "outputs": [
        {
          "name": "stdout",
          "output_type": "stream",
          "text": [
            "Epoch 1/50\n",
            "79/79 [==============================] - 7s 68ms/step - loss: 74896.7969 - output_1_loss: 42.6875 - output_2_loss: 31.3355 - output_3_loss: 25.5473 - Mask_output_loss: 74797.2188 - output_1_accuracy: 0.5168 - output_2_accuracy: 0.7524 - output_3_accuracy: 0.7288 - Mask_output_mse: 0.0172\n",
            "Epoch 2/50\n",
            "79/79 [==============================] - 5s 68ms/step - loss: 70539.0156 - output_1_loss: 33.4583 - output_2_loss: 24.8122 - output_3_loss: 18.9951 - Mask_output_loss: 70461.7500 - output_1_accuracy: 0.5648 - output_2_accuracy: 0.7996 - output_3_accuracy: 0.7516 - Mask_output_mse: 0.0172\n",
            "Epoch 3/50\n",
            "79/79 [==============================] - 5s 69ms/step - loss: 67775.6172 - output_1_loss: 30.8564 - output_2_loss: 21.4377 - output_3_loss: 17.7840 - Mask_output_loss: 67705.5391 - output_1_accuracy: 0.5756 - output_2_accuracy: 0.7912 - output_3_accuracy: 0.7604 - Mask_output_mse: 0.0172\n",
            "Epoch 4/50\n",
            "79/79 [==============================] - 5s 70ms/step - loss: 65408.1875 - output_1_loss: 28.6721 - output_2_loss: 18.3579 - output_3_loss: 16.6675 - Mask_output_loss: 65344.4727 - output_1_accuracy: 0.5872 - output_2_accuracy: 0.8104 - output_3_accuracy: 0.7492 - Mask_output_mse: 0.0172\n",
            "Epoch 5/50\n",
            "79/79 [==============================] - 6s 70ms/step - loss: 64085.3828 - output_1_loss: 26.9811 - output_2_loss: 16.7294 - output_3_loss: 16.1019 - Mask_output_loss: 64025.5664 - output_1_accuracy: 0.6116 - output_2_accuracy: 0.8128 - output_3_accuracy: 0.7544 - Mask_output_mse: 0.0172\n",
            "Epoch 6/50\n",
            "79/79 [==============================] - 6s 70ms/step - loss: 63046.1875 - output_1_loss: 25.6834 - output_2_loss: 15.1206 - output_3_loss: 15.3509 - Mask_output_loss: 62990.0273 - output_1_accuracy: 0.6172 - output_2_accuracy: 0.8176 - output_3_accuracy: 0.7688 - Mask_output_mse: 0.0172\n",
            "Epoch 7/50\n",
            "79/79 [==============================] - 6s 70ms/step - loss: 61666.3789 - output_1_loss: 24.3814 - output_2_loss: 13.7751 - output_3_loss: 14.7442 - Mask_output_loss: 61613.4844 - output_1_accuracy: 0.6160 - output_2_accuracy: 0.8244 - output_3_accuracy: 0.7688 - Mask_output_mse: 0.0172\n",
            "Epoch 8/50\n",
            "79/79 [==============================] - 6s 70ms/step - loss: 61108.1914 - output_1_loss: 24.0649 - output_2_loss: 13.3400 - output_3_loss: 14.5070 - Mask_output_loss: 61056.2930 - output_1_accuracy: 0.6324 - output_2_accuracy: 0.8260 - output_3_accuracy: 0.7668 - Mask_output_mse: 0.0172\n",
            "Epoch 9/50\n",
            "79/79 [==============================] - 5s 69ms/step - loss: 60367.1172 - output_1_loss: 23.7446 - output_2_loss: 13.0807 - output_3_loss: 14.3564 - Mask_output_loss: 60315.9570 - output_1_accuracy: 0.6336 - output_2_accuracy: 0.8240 - output_3_accuracy: 0.7660 - Mask_output_mse: 0.0171\n",
            "Epoch 10/50\n",
            "79/79 [==============================] - 5s 69ms/step - loss: 60081.4609 - output_1_loss: 22.8159 - output_2_loss: 12.0598 - output_3_loss: 14.1582 - Mask_output_loss: 60032.4219 - output_1_accuracy: 0.6448 - output_2_accuracy: 0.8228 - output_3_accuracy: 0.7708 - Mask_output_mse: 0.0171\n",
            "Epoch 11/50\n",
            "79/79 [==============================] - 5s 68ms/step - loss: 59664.2227 - output_1_loss: 22.3064 - output_2_loss: 11.6156 - output_3_loss: 13.9775 - Mask_output_loss: 59616.3516 - output_1_accuracy: 0.6388 - output_2_accuracy: 0.8196 - output_3_accuracy: 0.7744 - Mask_output_mse: 0.0171\n",
            "Epoch 12/50\n",
            "79/79 [==============================] - 5s 68ms/step - loss: 59356.9141 - output_1_loss: 21.9861 - output_2_loss: 11.2943 - output_3_loss: 13.9005 - Mask_output_loss: 59309.7266 - output_1_accuracy: 0.6396 - output_2_accuracy: 0.8312 - output_3_accuracy: 0.7816 - Mask_output_mse: 0.0171\n",
            "Epoch 13/50\n",
            "79/79 [==============================] - 5s 68ms/step - loss: 59015.5273 - output_1_loss: 21.7729 - output_2_loss: 11.1154 - output_3_loss: 13.8294 - Mask_output_loss: 58968.8047 - output_1_accuracy: 0.6408 - output_2_accuracy: 0.8272 - output_3_accuracy: 0.7736 - Mask_output_mse: 0.0171\n",
            "Epoch 14/50\n",
            "79/79 [==============================] - 5s 67ms/step - loss: 58889.4219 - output_1_loss: 21.5902 - output_2_loss: 10.8704 - output_3_loss: 13.7875 - Mask_output_loss: 58843.1602 - output_1_accuracy: 0.6352 - output_2_accuracy: 0.8164 - output_3_accuracy: 0.7736 - Mask_output_mse: 0.0171\n",
            "Epoch 15/50\n",
            "79/79 [==============================] - 5s 67ms/step - loss: 58531.2109 - output_1_loss: 21.4989 - output_2_loss: 10.7290 - output_3_loss: 13.7522 - Mask_output_loss: 58485.2109 - output_1_accuracy: 0.6392 - output_2_accuracy: 0.8244 - output_3_accuracy: 0.7728 - Mask_output_mse: 0.0171\n",
            "Epoch 16/50\n",
            "79/79 [==============================] - 5s 68ms/step - loss: 58354.7188 - output_1_loss: 21.3149 - output_2_loss: 10.6452 - output_3_loss: 13.7035 - Mask_output_loss: 58309.0547 - output_1_accuracy: 0.6464 - output_2_accuracy: 0.8340 - output_3_accuracy: 0.7720 - Mask_output_mse: 0.0171\n",
            "Epoch 17/50\n",
            "79/79 [==============================] - 6s 71ms/step - loss: 58096.1719 - output_1_loss: 21.2480 - output_2_loss: 10.5552 - output_3_loss: 13.6772 - Mask_output_loss: 58050.6953 - output_1_accuracy: 0.6448 - output_2_accuracy: 0.8328 - output_3_accuracy: 0.7732 - Mask_output_mse: 0.0171\n",
            "Epoch 18/50\n",
            "79/79 [==============================] - 5s 68ms/step - loss: 58050.1758 - output_1_loss: 21.1206 - output_2_loss: 10.4120 - output_3_loss: 13.6738 - Mask_output_loss: 58004.9609 - output_1_accuracy: 0.6448 - output_2_accuracy: 0.8328 - output_3_accuracy: 0.7720 - Mask_output_mse: 0.0171\n",
            "Epoch 19/50\n",
            "79/79 [==============================] - 5s 68ms/step - loss: 57956.6328 - output_1_loss: 21.0789 - output_2_loss: 10.3918 - output_3_loss: 13.6523 - Mask_output_loss: 57911.5117 - output_1_accuracy: 0.6412 - output_2_accuracy: 0.8332 - output_3_accuracy: 0.7728 - Mask_output_mse: 0.0171\n",
            "Epoch 20/50\n",
            "79/79 [==============================] - 5s 69ms/step - loss: 57605.1055 - output_1_loss: 21.0482 - output_2_loss: 10.3293 - output_3_loss: 13.6348 - Mask_output_loss: 57560.1016 - output_1_accuracy: 0.6404 - output_2_accuracy: 0.8368 - output_3_accuracy: 0.7696 - Mask_output_mse: 0.0171\n",
            "Epoch 21/50\n",
            "79/79 [==============================] - 5s 69ms/step - loss: 57524.3711 - output_1_loss: 21.0148 - output_2_loss: 10.2803 - output_3_loss: 13.6139 - Mask_output_loss: 57479.4609 - output_1_accuracy: 0.6488 - output_2_accuracy: 0.8348 - output_3_accuracy: 0.7636 - Mask_output_mse: 0.0171\n",
            "Epoch 22/50\n",
            "79/79 [==============================] - 5s 69ms/step - loss: 57421.3555 - output_1_loss: 20.9689 - output_2_loss: 10.2782 - output_3_loss: 13.6150 - Mask_output_loss: 57376.5117 - output_1_accuracy: 0.6420 - output_2_accuracy: 0.8288 - output_3_accuracy: 0.7792 - Mask_output_mse: 0.0171\n",
            "Epoch 23/50\n",
            "79/79 [==============================] - 5s 69ms/step - loss: nan - output_1_loss: 20.9986 - output_2_loss: 10.2336 - output_3_loss: 13.6299 - Mask_output_loss: nan - output_1_accuracy: 0.6536 - output_2_accuracy: 0.8280 - output_3_accuracy: 0.7692 - Mask_output_mse: 0.0171\n",
            "Epoch 24/50\n",
            "79/79 [==============================] - 5s 68ms/step - loss: nan - output_1_loss: 20.9154 - output_2_loss: 10.2245 - output_3_loss: 13.6055 - Mask_output_loss: nan - output_1_accuracy: 0.6436 - output_2_accuracy: 0.8356 - output_3_accuracy: 0.7672 - Mask_output_mse: 0.0171\n",
            "Epoch 25/50\n",
            "79/79 [==============================] - 5s 69ms/step - loss: nan - output_1_loss: 20.9115 - output_2_loss: 10.1850 - output_3_loss: 13.5951 - Mask_output_loss: nan - output_1_accuracy: 0.6556 - output_2_accuracy: 0.8284 - output_3_accuracy: 0.7744 - Mask_output_mse: 0.0171\n",
            "Epoch 26/50\n",
            "79/79 [==============================] - 5s 68ms/step - loss: nan - output_1_loss: 20.9080 - output_2_loss: 10.1485 - output_3_loss: 13.5900 - Mask_output_loss: nan - output_1_accuracy: 0.6292 - output_2_accuracy: 0.8316 - output_3_accuracy: 0.7676 - Mask_output_mse: 0.0171\n",
            "Epoch 27/50\n",
            "79/79 [==============================] - 5s 68ms/step - loss: nan - output_1_loss: 20.9109 - output_2_loss: 10.1682 - output_3_loss: 13.5401 - Mask_output_loss: nan - output_1_accuracy: 0.6404 - output_2_accuracy: 0.8280 - output_3_accuracy: 0.7672 - Mask_output_mse: 0.0171\n",
            "Epoch 28/50\n",
            "79/79 [==============================] - 5s 68ms/step - loss: nan - output_1_loss: 20.8834 - output_2_loss: 10.1220 - output_3_loss: 13.5815 - Mask_output_loss: nan - output_1_accuracy: 0.6436 - output_2_accuracy: 0.8328 - output_3_accuracy: 0.7756 - Mask_output_mse: 0.0171\n",
            "Epoch 29/50\n",
            "79/79 [==============================] - 5s 68ms/step - loss: nan - output_1_loss: 20.8400 - output_2_loss: 10.1420 - output_3_loss: 13.5786 - Mask_output_loss: nan - output_1_accuracy: 0.6400 - output_2_accuracy: 0.8300 - output_3_accuracy: 0.7728 - Mask_output_mse: 0.0171\n",
            "Epoch 30/50\n",
            "79/79 [==============================] - 5s 68ms/step - loss: nan - output_1_loss: 20.8404 - output_2_loss: 10.1394 - output_3_loss: 13.5764 - Mask_output_loss: nan - output_1_accuracy: 0.6616 - output_2_accuracy: 0.8336 - output_3_accuracy: 0.7772 - Mask_output_mse: 0.0171\n",
            "Epoch 31/50\n",
            "79/79 [==============================] - 5s 68ms/step - loss: nan - output_1_loss: 20.8402 - output_2_loss: 10.0937 - output_3_loss: 13.5891 - Mask_output_loss: nan - output_1_accuracy: 0.6572 - output_2_accuracy: 0.8292 - output_3_accuracy: 0.7580 - Mask_output_mse: 0.0171\n",
            "Epoch 32/50\n",
            "79/79 [==============================] - 5s 69ms/step - loss: nan - output_1_loss: 20.8498 - output_2_loss: 10.0870 - output_3_loss: 13.5708 - Mask_output_loss: nan - output_1_accuracy: 0.6436 - output_2_accuracy: 0.8284 - output_3_accuracy: 0.7756 - Mask_output_mse: 0.0171\n",
            "Epoch 33/50\n",
            "79/79 [==============================] - 5s 68ms/step - loss: nan - output_1_loss: 20.8254 - output_2_loss: 10.0944 - output_3_loss: 13.5688 - Mask_output_loss: nan - output_1_accuracy: 0.6472 - output_2_accuracy: 0.8248 - output_3_accuracy: 0.7748 - Mask_output_mse: 0.0171\n",
            "Epoch 34/50\n",
            "79/79 [==============================] - 6s 72ms/step - loss: nan - output_1_loss: 20.8226 - output_2_loss: 10.0905 - output_3_loss: 13.5684 - Mask_output_loss: nan - output_1_accuracy: 0.6424 - output_2_accuracy: 0.8312 - output_3_accuracy: 0.7644 - Mask_output_mse: 0.0171\n",
            "Epoch 35/50\n",
            "79/79 [==============================] - 5s 69ms/step - loss: nan - output_1_loss: 20.8008 - output_2_loss: 10.0982 - output_3_loss: 13.5664 - Mask_output_loss: nan - output_1_accuracy: 0.6516 - output_2_accuracy: 0.8332 - output_3_accuracy: 0.7712 - Mask_output_mse: 0.0171\n",
            "Epoch 36/50\n",
            "79/79 [==============================] - 5s 69ms/step - loss: nan - output_1_loss: 20.7978 - output_2_loss: 10.0807 - output_3_loss: 13.5781 - Mask_output_loss: nan - output_1_accuracy: 0.6508 - output_2_accuracy: 0.8380 - output_3_accuracy: 0.7704 - Mask_output_mse: 0.0171\n",
            "Epoch 37/50\n",
            "79/79 [==============================] - 5s 68ms/step - loss: nan - output_1_loss: 20.8383 - output_2_loss: 10.0581 - output_3_loss: 13.5452 - Mask_output_loss: nan - output_1_accuracy: 0.6440 - output_2_accuracy: 0.8392 - output_3_accuracy: 0.7756 - Mask_output_mse: 0.0171\n",
            "Epoch 38/50\n",
            "79/79 [==============================] - 5s 69ms/step - loss: nan - output_1_loss: 20.7852 - output_2_loss: 10.0822 - output_3_loss: 13.5596 - Mask_output_loss: nan - output_1_accuracy: 0.6464 - output_2_accuracy: 0.8312 - output_3_accuracy: 0.7724 - Mask_output_mse: 0.0171\n",
            "Epoch 39/50\n",
            "79/79 [==============================] - 6s 71ms/step - loss: nan - output_1_loss: 20.8118 - output_2_loss: 10.0479 - output_3_loss: 13.5583 - Mask_output_loss: nan - output_1_accuracy: 0.6508 - output_2_accuracy: 0.8200 - output_3_accuracy: 0.7708 - Mask_output_mse: 0.0171\n",
            "Epoch 40/50\n",
            "79/79 [==============================] - 6s 70ms/step - loss: nan - output_1_loss: 20.7976 - output_2_loss: 10.0625 - output_3_loss: 13.5580 - Mask_output_loss: nan - output_1_accuracy: 0.6544 - output_2_accuracy: 0.8284 - output_3_accuracy: 0.7636 - Mask_output_mse: 0.0171\n",
            "Epoch 41/50\n",
            "79/79 [==============================] - 5s 69ms/step - loss: nan - output_1_loss: 20.7926 - output_2_loss: 10.0565 - output_3_loss: 13.5565 - Mask_output_loss: nan - output_1_accuracy: 0.6484 - output_2_accuracy: 0.8252 - output_3_accuracy: 0.7724 - Mask_output_mse: 0.0171\n",
            "Epoch 42/50\n",
            "79/79 [==============================] - 5s 69ms/step - loss: nan - output_1_loss: 20.7722 - output_2_loss: 10.0691 - output_3_loss: 13.5561 - Mask_output_loss: nan - output_1_accuracy: 0.6564 - output_2_accuracy: 0.8352 - output_3_accuracy: 0.7712 - Mask_output_mse: 0.0171\n",
            "Epoch 43/50\n",
            "79/79 [==============================] - 5s 68ms/step - loss: nan - output_1_loss: 20.7870 - output_2_loss: 10.0362 - output_3_loss: 13.5704 - Mask_output_loss: nan - output_1_accuracy: 0.6480 - output_2_accuracy: 0.8336 - output_3_accuracy: 0.7676 - Mask_output_mse: 0.0171\n",
            "Epoch 44/50\n",
            "79/79 [==============================] - 5s 69ms/step - loss: nan - output_1_loss: 20.7846 - output_2_loss: 10.0502 - output_3_loss: 13.5536 - Mask_output_loss: nan - output_1_accuracy: 0.6472 - output_2_accuracy: 0.8308 - output_3_accuracy: 0.7704 - Mask_output_mse: 0.0171\n",
            "Epoch 45/50\n",
            "79/79 [==============================] - 5s 69ms/step - loss: nan - output_1_loss: 20.7812 - output_2_loss: 10.0461 - output_3_loss: 13.5531 - Mask_output_loss: nan - output_1_accuracy: 0.6560 - output_2_accuracy: 0.8296 - output_3_accuracy: 0.7792 - Mask_output_mse: 0.0171\n",
            "Epoch 46/50\n",
            "79/79 [==============================] - 5s 69ms/step - loss: nan - output_1_loss: 20.7783 - output_2_loss: 10.0435 - output_3_loss: 13.5521 - Mask_output_loss: nan - output_1_accuracy: 0.6408 - output_2_accuracy: 0.8380 - output_3_accuracy: 0.7712 - Mask_output_mse: 0.0171\n",
            "Epoch 47/50\n",
            "79/79 [==============================] - 5s 69ms/step - loss: nan - output_1_loss: 20.8086 - output_2_loss: 10.0258 - output_3_loss: 13.5363 - Mask_output_loss: nan - output_1_accuracy: 0.6564 - output_2_accuracy: 0.8348 - output_3_accuracy: 0.7728 - Mask_output_mse: 0.0171\n",
            "Epoch 48/50\n",
            "79/79 [==============================] - 5s 69ms/step - loss: nan - output_1_loss: 20.7909 - output_2_loss: 10.0394 - output_3_loss: 13.5362 - Mask_output_loss: nan - output_1_accuracy: 0.6532 - output_2_accuracy: 0.8308 - output_3_accuracy: 0.7728 - Mask_output_mse: 0.0171\n",
            "Epoch 49/50\n",
            "79/79 [==============================] - 5s 69ms/step - loss: nan - output_1_loss: 20.7898 - output_2_loss: 10.0540 - output_3_loss: 13.5192 - Mask_output_loss: nan - output_1_accuracy: 0.6452 - output_2_accuracy: 0.8340 - output_3_accuracy: 0.7800 - Mask_output_mse: 0.0171\n",
            "Epoch 50/50\n",
            "79/79 [==============================] - 5s 68ms/step - loss: nan - output_1_loss: 20.7719 - output_2_loss: 10.0522 - output_3_loss: 13.5345 - Mask_output_loss: nan - output_1_accuracy: 0.6492 - output_2_accuracy: 0.8204 - output_3_accuracy: 0.7728 - Mask_output_mse: 0.0171\n"
          ]
        }
      ],
      "source": [
        "hist=Visual_Geometry_Group.fit(TRAIN_IMAGES,\n",
        "                               [\n",
        "                  tf.cast(TRAINING_LABELS['glioma Tumor'].values ,dtype=tf.int32),\n",
        "                  tf.cast(TRAINING_LABELS['meningioma Tumor'].values ,dtype=tf.int32),\n",
        "                  tf.cast(TRAINING_LABELS['pituitary Tumor'].values ,dtype=tf.int32),\n",
        "                  np.array(train_masks).reshape(2500,128,128)\n",
        "                                ],\n",
        "                               epochs=50)"
      ]
    },
    {
      "cell_type": "code",
      "execution_count": null,
      "metadata": {
        "colab": {
          "base_uri": "https://localhost:8080/",
          "height": 269
        },
        "id": "Wd_L9ysKOM2H",
        "outputId": "450a864f-48fc-4e40-f13f-114264257794"
      },
      "outputs": [
        {
          "data": {
            "image/png": "[encoded data removed]",
            "text/plain": [
              "<Figure size 432x288 with 1 Axes>"
            ]
          },
          "metadata": {},
          "output_type": "display_data"
        }
      ],
      "source": [
        "pd.DataFrame(hist.history).plot() \n",
        "plt.grid()\n",
        "plt.gca().set_ylim(0,1)\n",
        "plt.show()"
      ]
    },
    {
      "cell_type": "code",
      "execution_count": null,
      "metadata": {
        "id": "tq_gq2zLQJ23",
        "colab": {
          "base_uri": "https://localhost:8080/"
        },
        "outputId": "06bf38a6-0a65-4ee2-a80b-dfc2ebb669d7"
      },
      "outputs": [
        {
          "output_type": "stream",
          "name": "stdout",
          "text": [
            "Downloading data from https://storage.googleapis.com/tensorflow/keras-applications/vgg19/vgg19_weights_tf_dim_ordering_tf_kernels_notop.h5\n",
            "80142336/80134624 [==============================] - 1s 0us/step\n",
            "80150528/80134624 [==============================] - 1s 0us/step\n",
            "Downloading data from https://storage.googleapis.com/tensorflow/keras-applications/inception_resnet_v2/inception_resnet_v2_weights_tf_dim_ordering_tf_kernels_notop.h5\n",
            "219062272/219055592 [==============================] - 2s 0us/step\n",
            "219070464/219055592 [==============================] - 2s 0us/step\n",
            "Downloading data from https://storage.googleapis.com/tensorflow/keras-applications/inception_v3/inception_v3_weights_tf_dim_ordering_tf_kernels_notop.h5\n",
            "87916544/87910968 [==============================] - 1s 0us/step\n",
            "87924736/87910968 [==============================] - 1s 0us/step\n",
            "Downloading data from https://storage.googleapis.com/tensorflow/keras-applications/resnet/resnet152_weights_tf_dim_ordering_tf_kernels_notop.h5\n",
            "234700800/234698864 [==============================] - 9s 0us/step\n",
            "234708992/234698864 [==============================] - 9s 0us/step\n"
          ]
        }
      ],
      "source": [
        "from tensorflow.keras.applications.vgg19 import VGG19\n",
        "from tensorflow.keras.applications.inception_resnet_v2 import InceptionResNetV2\n",
        "from tensorflow.keras.applications.inception_v3 import InceptionV3\n",
        "from tensorflow.keras.applications.resnet import ResNet152\n",
        "\n",
        "Vgg=VGG19(include_top=False, weights='imagenet',input_shape=(128,128,3))\n",
        "Vgg.trainable=False\n",
        "inceptionresnetv2=InceptionResNetV2(include_top=False, weights='imagenet',input_shape=(128,128,3))\n",
        "inceptionresnetv2.trainable=False\n",
        "inceptionv3=InceptionV3(include_top=False, weights='imagenet',input_shape=(128,128,3))\n",
        "inceptionv3.trainable=False\n",
        "resnet152=ResNet152(include_top=False, weights='imagenet',input_shape=(128,128,3))\n",
        "resnet152.trainable=False"
      ]
    },
    {
      "cell_type": "code",
      "execution_count": null,
      "metadata": {
        "id": "3-sm8782UBHF"
      },
      "outputs": [],
      "source": [
        "def se_block(in_block, ch, ratio=64):\n",
        "    x = keras.layers.GlobalAveragePooling2D()(in_block)\n",
        "    x = keras.layers.Dense(ch//ratio, activation='relu')(x)\n",
        "    x = keras.layers.Dense(ch, activation='sigmoid')(x)\n",
        "    x = tf.reshape(x, shape=[-1, 1, 1, ch], name='scaler')\n",
        "    return keras.layers.multiply([in_block, x])"
      ]
    },
    {
      "cell_type": "code",
      "execution_count": null,
      "metadata": {
        "colab": {
          "base_uri": "https://localhost:8080/"
        },
        "id": "_-ZCTAI0rPmT",
        "outputId": "e2b95368-e1e9-412a-ff3c-ab21bae2673a"
      },
      "outputs": [
        {
          "output_type": "stream",
          "name": "stdout",
          "text": [
            "Epoch 1/10\n",
            " 4/88 [>.............................] - ETA: 22:09 - loss: 20.2473 - output_1_loss: 3.2612 - output_2_loss: 6.1080 - output_3_loss: 10.8780 - output_1_accuracy: 0.6016 - output_2_accuracy: 0.6172 - output_3_accuracy: 0.6562"
          ]
        }
      ],
      "source": [
        "features=keras.layers.concatenate([keras.layers.Flatten()(Vgg.output),\n",
        "                                   keras.layers.Flatten()(inceptionresnetv2.output),\n",
        "                                  keras.layers.Flatten()( inceptionv3.output),\n",
        "                                   keras.layers.Flatten()(resnet152.output)])\n",
        "S_E_Block_1=se_block(Vgg.output,512)\n",
        "S_E_Block_2=se_block(inceptionresnetv2.output,1536)\n",
        "S_E_Block_3=se_block(inceptionv3.output,2048)\n",
        "S_E_Block_4=se_block(resnet152.output,2048)\n",
        "concat=keras.layers.concatenate([features,keras.layers.Flatten()(S_E_Block_1),\n",
        "                                 keras.layers.Flatten()(S_E_Block_2),\n",
        "                                 keras.layers.Flatten()(S_E_Block_3),\n",
        "                                 keras.layers.Flatten()(S_E_Block_4)])\n",
        "flatten=keras.layers.Flatten()(concat)\n",
        "dense_1=keras.layers.Dense(1024,activation='relu')(flatten)\n",
        "dense_2=keras.layers.Dense(512,activation='relu')(keras.layers.concatenate([dense_1,flatten]))\n",
        "dense_3=keras.layers.Dense(128,\n",
        "                        activation='relu')(keras.layers.concatenate([dense_1,dense_2,flatten]))\n",
        "output_1=keras.layers.Dense(1,activation='sigmoid',\n",
        "                name='output_1')(keras.layers.concatenate([dense_1,dense_2,dense_3,flatten]))\n",
        "output_2=keras.layers.Dense(1,activation='sigmoid',\n",
        "                  name='output_2')(keras.layers.concatenate([dense_1,dense_2,dense_3,flatten]))\n",
        "output_3=keras.layers.Dense(1,activation='sigmoid',\n",
        "                name='output_3')(keras.layers.concatenate([dense_1,dense_2,dense_3,flatten]))\n",
        "SE_Learning_Model=keras.models.Model([Vgg.input,inceptionresnetv2.input,\n",
        "                                   inceptionv3.input,resnet152.input],\n",
        "                                   [output_1,output_2,output_3])\n",
        "SE_Learning_Model.compile(optimizer=keras.optimizers.Adam(learning_rate=0.001),\n",
        "                          loss='binary_crossentropy',metrics=['accuracy'])\n",
        "hist=SE_Learning_Model.fit([TRAIN_IMAGES,TRAIN_IMAGES,TRAIN_IMAGES,TRAIN_IMAGES],\n",
        "        [TRAINING_LABELS['glioma Tumor'].values,TRAINING_LABELS['meningioma Tumor'].values,\n",
        "         TRAINING_LABELS['pituitary Tumor'].values],epochs=10)"
      ]
    },
    {
      "cell_type": "code",
      "execution_count": null,
      "metadata": {
        "colab": {
          "base_uri": "https://localhost:8080/",
          "height": 269
        },
        "id": "lkfHcErirUId",
        "outputId": "9da1ecba-b5f3-4df7-9b09-5f172def97ec"
      },
      "outputs": [
        {
          "output_type": "display_data",
          "data": {
            "text/plain": [
              "<Figure size 432x288 with 1 Axes>"
            ],
            "image/png": "[encoded data removed]"
          },
          "metadata": {
            "needs_background": "light"
          }
        }
      ],
      "source": [
        "pd.DataFrame(hist.history).plot() \n",
        "plt.grid()\n",
        "plt.gca().set_ylim(0,1)\n",
        "plt.show()"
      ]
    },
    {
      "cell_type": "code",
      "execution_count": null,
      "metadata": {
        "colab": {
          "base_uri": "https://localhost:8080/"
        },
        "id": "f_dfI1tRLTGL",
        "outputId": "7e869ca9-a223-480b-ca77-72aca2520150"
      },
      "outputs": [
        {
          "output_type": "stream",
          "name": "stdout",
          "text": [
            "18/18 [==============================] - 12s 273ms/step - loss: 3.3756 - output_1_loss: 0.9226 - output_2_loss: 0.8875 - output_3_loss: 1.5655 - output_1_accuracy: 0.7128 - output_2_accuracy: 0.7801 - output_3_accuracy: 0.7730\n"
          ]
        },
        {
          "output_type": "execute_result",
          "data": {
            "text/plain": [
              "[3.3755834102630615,\n",
              " 0.922572910785675,\n",
              " 0.8875243663787842,\n",
              " 1.5654864311218262,\n",
              " 0.7127659320831299,\n",
              " 0.7801418304443359,\n",
              " 0.7730496525764465]"
            ]
          },
          "metadata": {},
          "execution_count": 26
        }
      ],
      "source": [
        "SE_Learning_Model.evaluate([TEST_IMAGES,TEST_IMAGES,TEST_IMAGES,TEST_IMAGES],[\n",
        "                  tf.cast(TESTING_LABELS['glioma Tumor'].values ,dtype=tf.int32),\n",
        "                  tf.cast(TESTING_LABELS['meningioma Tumor'].values ,dtype=tf.int32),\n",
        "                  tf.cast(TESTING_LABELS['pituitary Tumor'].values ,dtype=tf.int32)\n",
        "])"
      ]
    },
    {
      "cell_type": "code",
      "source": [
        ""
      ],
      "metadata": {
        "id": "fFfsptspAw-z"
      },
      "execution_count": null,
      "outputs": []
    }
  ],
  "metadata": {
    "accelerator": "GPU",
    "colab": {
      "collapsed_sections": [],
      "name": "Brain Neoplasm Stratification 2.ipynb",
      "provenance": []
    },
    "kernelspec": {
      "display_name": "Python 3",
      "name": "python3"
    },
    "language_info": {
      "name": "python"
    }
  },
  "nbformat": 4,
  "nbformat_minor": 0
}